{
  "nbformat": 4,
  "nbformat_minor": 0,
  "metadata": {
    "colab": {
      "provenance": [],
      "authorship_tag": "ABX9TyOBBAQYNuAxsmiASxwUHUB1",
      "include_colab_link": true
    },
    "kernelspec": {
      "name": "python3",
      "display_name": "Python 3"
    },
    "language_info": {
      "name": "python"
    },
    "accelerator": "GPU",
    "gpuClass": "standard"
  },
  "cells": [
    {
      "cell_type": "markdown",
      "metadata": {
        "id": "view-in-github",
        "colab_type": "text"
      },
      "source": [
        "<a href=\"https://colab.research.google.com/github/omarhisham007/Deep-Learning/blob/main/gender_model.ipynb\" target=\"_parent\"><img src=\"https://colab.research.google.com/assets/colab-badge.svg\" alt=\"Open In Colab\"/></a>"
      ]
    },
    {
      "cell_type": "code",
      "source": [
        "!pip install tensorflow==2.7.0."
      ],
      "metadata": {
        "id": "DmQsFltOicUo"
      },
      "execution_count": null,
      "outputs": []
    },
    {
      "cell_type": "code",
      "execution_count": 2,
      "metadata": {
        "colab": {
          "base_uri": "https://localhost:8080/"
        },
        "id": "OlYntRKE9RM7",
        "outputId": "ad502ef4-535e-47e0-b98d-8c3135fc2218"
      },
      "outputs": [
        {
          "output_type": "stream",
          "name": "stdout",
          "text": [
            "Mounted at /content/drive\n"
          ]
        }
      ],
      "source": [
        "from google.colab import drive\n",
        "drive.mount('/content/drive')"
      ]
    },
    {
      "cell_type": "code",
      "source": [
        "%cd /content/drive/MyDrive/content/gender_input_output\n",
        "! ls"
      ],
      "metadata": {
        "colab": {
          "base_uri": "https://localhost:8080/"
        },
        "id": "1SUyOozb9wSO",
        "outputId": "8729c9af-d99c-43db-efc5-3a52513657aa"
      },
      "execution_count": 3,
      "outputs": [
        {
          "output_type": "stream",
          "name": "stdout",
          "text": [
            "/content/drive/MyDrive/content/gender_input_output\n",
            "input  outputgender_model\n"
          ]
        }
      ]
    },
    {
      "cell_type": "code",
      "source": [
        "# Imports\n",
        "\n",
        "import pandas as pd\n",
        "import numpy as np\n",
        "\n",
        "import matplotlib.pyplot as plt\n",
        "import cv2\n",
        "import os\n",
        "\n",
        "import tensorflow as tf\n",
        "\n",
        "from google.colab.patches import cv2_imshow\n",
        "\n",
        "from keras.models import Sequential,load_model,Model\n",
        "from keras.layers import Conv2D,MaxPooling2D,AvgPool2D,GlobalAveragePooling2D,Dense,Dropout,BatchNormalization,Flatten,Input\n",
        "from sklearn.model_selection import train_test_split\n",
        "\n",
        "\n",
        "from tensorflow.keras.layers import Input,Activation,Add\n",
        "from tensorflow.keras.regularizers import l2\n",
        "from tensorflow.keras.optimizers import Adam\n",
        "from tensorflow.keras.callbacks import ModelCheckpoint\n"
      ],
      "metadata": {
        "id": "1aaHOWT__c7H"
      },
      "execution_count": 4,
      "outputs": []
    },
    {
      "cell_type": "code",
      "source": [
        "path = \"/content/drive/MyDrive/content/gender_input_output/input/UTKFace\"\n",
        "pixels = []\n",
        "age = []\n",
        "gender = [] \n",
        "\n",
        "i=0\n",
        "for img in os.listdir(path):\n",
        "  i=i+1\n",
        "  genders = img.split(\"_\")[1]\n",
        "  img = cv2.imread(str(path)+\"/\"+str(img))\n",
        "  img = cv2.cvtColor(img,cv2.COLOR_BGR2GRAY)\n",
        "  img=cv2.resize(img,(100,100))\n",
        "  pixels.append(np.array(img))\n",
        "  gender.append(np.array(genders))\n",
        "\n",
        "pixels = np.array(pixels)\n",
        "gender = np.array(gender,np.uint64)"
      ],
      "metadata": {
        "id": "Ennv5gyfOxX8"
      },
      "execution_count": 7,
      "outputs": []
    },
    {
      "cell_type": "code",
      "source": [
        "len(pixels)"
      ],
      "metadata": {
        "colab": {
          "base_uri": "https://localhost:8080/"
        },
        "id": "t5r_COAu9wfx",
        "outputId": "f708f878-a368-4487-e8af-ef7d65df04f6"
      },
      "execution_count": 8,
      "outputs": [
        {
          "output_type": "execute_result",
          "data": {
            "text/plain": [
              "23708"
            ]
          },
          "metadata": {},
          "execution_count": 8
        }
      ]
    },
    {
      "cell_type": "code",
      "source": [
        "len(gender)"
      ],
      "metadata": {
        "colab": {
          "base_uri": "https://localhost:8080/"
        },
        "id": "GEdgUGqm9wv3",
        "outputId": "67a7fc82-3725-4bd8-9177-2bd8f65c3dbb"
      },
      "execution_count": 9,
      "outputs": [
        {
          "output_type": "execute_result",
          "data": {
            "text/plain": [
              "23708"
            ]
          },
          "metadata": {},
          "execution_count": 9
        }
      ]
    },
    {
      "cell_type": "code",
      "source": [
        "x_train,x_test,y_train,y_test = train_test_split(pixels,gender,random_state=100)"
      ],
      "metadata": {
        "id": "RHjrV-EsJJtX"
      },
      "execution_count": 10,
      "outputs": []
    },
    {
      "cell_type": "code",
      "source": [
        "len(x_train)"
      ],
      "metadata": {
        "colab": {
          "base_uri": "https://localhost:8080/"
        },
        "id": "POjKJlMvJJ4l",
        "outputId": "0aab9694-bad3-49d9-b5b0-347aba7e9c1c"
      },
      "execution_count": 11,
      "outputs": [
        {
          "output_type": "execute_result",
          "data": {
            "text/plain": [
              "17781"
            ]
          },
          "metadata": {},
          "execution_count": 11
        }
      ]
    },
    {
      "cell_type": "code",
      "source": [
        "len(x_test)"
      ],
      "metadata": {
        "colab": {
          "base_uri": "https://localhost:8080/"
        },
        "id": "aaBKrkusJJ73",
        "outputId": "4e12aea7-ff76-4271-a13f-a3be8d4a4968"
      },
      "execution_count": 12,
      "outputs": [
        {
          "output_type": "execute_result",
          "data": {
            "text/plain": [
              "5927"
            ]
          },
          "metadata": {},
          "execution_count": 12
        }
      ]
    },
    {
      "cell_type": "code",
      "source": [
        "input = Input(shape = (100,100,1))\n",
        "\n",
        "conv1 = Conv2D(32,(3, 3), padding = 'same', strides=(1, 1), kernel_regularizer=l2(0.001))(input)\n",
        "conv1 = Dropout(0.1)(conv1)\n",
        "conv1 = Activation('relu')(conv1)\n",
        "pool1 = MaxPooling2D(pool_size = (2,2)) (conv1)\n",
        "\n",
        "conv2 = Conv2D(64,(3, 3), padding = 'same', strides=(1, 1), kernel_regularizer=l2(0.001))(pool1)\n",
        "conv2 = Dropout(0.1)(conv2)\n",
        "conv2 = Activation('relu')(conv2)\n",
        "pool2 = MaxPooling2D(pool_size = (2,2)) (conv2)\n",
        "\n",
        "conv3 = Conv2D(128,(3, 3), padding = 'same', strides=(1, 1), kernel_regularizer=l2(0.001))(pool2)\n",
        "conv3 = Dropout(0.1)(conv3)\n",
        "conv3 = Activation('relu')(conv3)\n",
        "pool3 = MaxPooling2D(pool_size = (2,2)) (conv3)\n",
        "\n",
        "conv4 = Conv2D(256,(3, 3), padding = 'same', strides=(1, 1), kernel_regularizer=l2(0.001))(pool3)\n",
        "conv4 = Dropout(0.1)(conv4)\n",
        "conv4 = Activation('relu')(conv4)\n",
        "pool4 = MaxPooling2D(pool_size = (2,2)) (conv4)\n",
        "\n",
        "flatten = Flatten()(pool4)\n",
        "\n",
        "dense_1 = Dense(128,activation='relu')(flatten)\n",
        "\n",
        "drop_1 = Dropout(0.2)(dense_1)\n",
        "\n",
        "output = Dense(2,activation=\"sigmoid\")(drop_1)"
      ],
      "metadata": {
        "id": "19bGAP-xJUBe"
      },
      "execution_count": 13,
      "outputs": []
    },
    {
      "cell_type": "code",
      "source": [
        "model = Model(inputs=input,outputs=output)\n",
        "model.compile(optimizer=\"adam\",loss=[\"sparse_categorical_crossentropy\"],metrics=['accuracy'])\n",
        "model.summary()"
      ],
      "metadata": {
        "colab": {
          "base_uri": "https://localhost:8080/"
        },
        "id": "73UEDtumJUEX",
        "outputId": "f1070457-2462-4680-bdd0-8e59ea21fba0"
      },
      "execution_count": 16,
      "outputs": [
        {
          "output_type": "stream",
          "name": "stdout",
          "text": [
            "Model: \"model_1\"\n",
            "_________________________________________________________________\n",
            " Layer (type)                Output Shape              Param #   \n",
            "=================================================================\n",
            " input_1 (InputLayer)        [(None, 100, 100, 1)]     0         \n",
            "                                                                 \n",
            " conv2d (Conv2D)             (None, 100, 100, 32)      320       \n",
            "                                                                 \n",
            " dropout (Dropout)           (None, 100, 100, 32)      0         \n",
            "                                                                 \n",
            " activation (Activation)     (None, 100, 100, 32)      0         \n",
            "                                                                 \n",
            " max_pooling2d (MaxPooling2D  (None, 50, 50, 32)       0         \n",
            " )                                                               \n",
            "                                                                 \n",
            " conv2d_1 (Conv2D)           (None, 50, 50, 64)        18496     \n",
            "                                                                 \n",
            " dropout_1 (Dropout)         (None, 50, 50, 64)        0         \n",
            "                                                                 \n",
            " activation_1 (Activation)   (None, 50, 50, 64)        0         \n",
            "                                                                 \n",
            " max_pooling2d_1 (MaxPooling  (None, 25, 25, 64)       0         \n",
            " 2D)                                                             \n",
            "                                                                 \n",
            " conv2d_2 (Conv2D)           (None, 25, 25, 128)       73856     \n",
            "                                                                 \n",
            " dropout_2 (Dropout)         (None, 25, 25, 128)       0         \n",
            "                                                                 \n",
            " activation_2 (Activation)   (None, 25, 25, 128)       0         \n",
            "                                                                 \n",
            " max_pooling2d_2 (MaxPooling  (None, 12, 12, 128)      0         \n",
            " 2D)                                                             \n",
            "                                                                 \n",
            " conv2d_3 (Conv2D)           (None, 12, 12, 256)       295168    \n",
            "                                                                 \n",
            " dropout_3 (Dropout)         (None, 12, 12, 256)       0         \n",
            "                                                                 \n",
            " activation_3 (Activation)   (None, 12, 12, 256)       0         \n",
            "                                                                 \n",
            " max_pooling2d_3 (MaxPooling  (None, 6, 6, 256)        0         \n",
            " 2D)                                                             \n",
            "                                                                 \n",
            " flatten (Flatten)           (None, 9216)              0         \n",
            "                                                                 \n",
            " dense (Dense)               (None, 128)               1179776   \n",
            "                                                                 \n",
            " dropout_4 (Dropout)         (None, 128)               0         \n",
            "                                                                 \n",
            " dense_1 (Dense)             (None, 2)                 258       \n",
            "                                                                 \n",
            "=================================================================\n",
            "Total params: 1,567,874\n",
            "Trainable params: 1,567,874\n",
            "Non-trainable params: 0\n",
            "_________________________________________________________________\n"
          ]
        }
      ]
    },
    {
      "cell_type": "code",
      "source": [
        "model_path='./output/gender_model.h5'\n",
        "checkpointer = ModelCheckpoint(model_path, monitor='loss',verbose=1,save_best_only=True,\n",
        "                               save_weights_only=False, mode='auto',save_freq='epoch')\n",
        "callback_list=[checkpointer]"
      ],
      "metadata": {
        "id": "AJMF-obRJUHz"
      },
      "execution_count": 19,
      "outputs": []
    },
    {
      "cell_type": "code",
      "source": [
        "save = model.fit(x_train,y_train,validation_data=(x_test,y_test),epochs=30,callbacks=[callback_list])"
      ],
      "metadata": {
        "colab": {
          "base_uri": "https://localhost:8080/"
        },
        "id": "JEy9DaZaJgcr",
        "outputId": "ef29292f-c7a6-417e-e91b-2ded445b830a"
      },
      "execution_count": 20,
      "outputs": [
        {
          "output_type": "stream",
          "name": "stdout",
          "text": [
            "Epoch 1/30\n",
            "554/556 [============================>.] - ETA: 0s - loss: 0.3981 - accuracy: 0.8712\n",
            "Epoch 00001: loss improved from inf to 0.39838, saving model to ./output/gender_model.h5\n",
            "556/556 [==============================] - 13s 23ms/step - loss: 0.3984 - accuracy: 0.8711 - val_loss: 0.4013 - val_accuracy: 0.8643\n",
            "Epoch 2/30\n",
            "555/556 [============================>.] - ETA: 0s - loss: 0.3649 - accuracy: 0.8813\n",
            "Epoch 00002: loss improved from 0.39838 to 0.36472, saving model to ./output/gender_model.h5\n",
            "556/556 [==============================] - 13s 24ms/step - loss: 0.3647 - accuracy: 0.8813 - val_loss: 0.3583 - val_accuracy: 0.8805\n",
            "Epoch 3/30\n",
            "556/556 [==============================] - ETA: 0s - loss: 0.3422 - accuracy: 0.8893\n",
            "Epoch 00003: loss improved from 0.36472 to 0.34217, saving model to ./output/gender_model.h5\n",
            "556/556 [==============================] - 13s 23ms/step - loss: 0.3422 - accuracy: 0.8893 - val_loss: 0.3663 - val_accuracy: 0.8681\n",
            "Epoch 4/30\n",
            "556/556 [==============================] - ETA: 0s - loss: 0.3198 - accuracy: 0.8928\n",
            "Epoch 00004: loss improved from 0.34217 to 0.31977, saving model to ./output/gender_model.h5\n",
            "556/556 [==============================] - 13s 23ms/step - loss: 0.3198 - accuracy: 0.8928 - val_loss: 0.3696 - val_accuracy: 0.8888\n",
            "Epoch 5/30\n",
            "556/556 [==============================] - ETA: 0s - loss: 0.3141 - accuracy: 0.8956\n",
            "Epoch 00005: loss improved from 0.31977 to 0.31411, saving model to ./output/gender_model.h5\n",
            "556/556 [==============================] - 12s 22ms/step - loss: 0.3141 - accuracy: 0.8956 - val_loss: 0.3472 - val_accuracy: 0.8795\n",
            "Epoch 6/30\n",
            "556/556 [==============================] - ETA: 0s - loss: 0.2979 - accuracy: 0.9037\n",
            "Epoch 00006: loss improved from 0.31411 to 0.29789, saving model to ./output/gender_model.h5\n",
            "556/556 [==============================] - 12s 22ms/step - loss: 0.2979 - accuracy: 0.9037 - val_loss: 0.3214 - val_accuracy: 0.8897\n",
            "Epoch 7/30\n",
            "555/556 [============================>.] - ETA: 0s - loss: 0.2930 - accuracy: 0.8987\n",
            "Epoch 00007: loss improved from 0.29789 to 0.29325, saving model to ./output/gender_model.h5\n",
            "556/556 [==============================] - 13s 23ms/step - loss: 0.2933 - accuracy: 0.8986 - val_loss: 0.3045 - val_accuracy: 0.8935\n",
            "Epoch 8/30\n",
            "555/556 [============================>.] - ETA: 0s - loss: 0.2806 - accuracy: 0.9084\n",
            "Epoch 00008: loss improved from 0.29325 to 0.28054, saving model to ./output/gender_model.h5\n",
            "556/556 [==============================] - 14s 24ms/step - loss: 0.2805 - accuracy: 0.9084 - val_loss: 0.3280 - val_accuracy: 0.8890\n",
            "Epoch 9/30\n",
            "556/556 [==============================] - ETA: 0s - loss: 0.2758 - accuracy: 0.9088\n",
            "Epoch 00009: loss improved from 0.28054 to 0.27578, saving model to ./output/gender_model.h5\n",
            "556/556 [==============================] - 13s 24ms/step - loss: 0.2758 - accuracy: 0.9088 - val_loss: 0.3170 - val_accuracy: 0.8900\n",
            "Epoch 10/30\n",
            "556/556 [==============================] - ETA: 0s - loss: 0.2677 - accuracy: 0.9150\n",
            "Epoch 00010: loss improved from 0.27578 to 0.26772, saving model to ./output/gender_model.h5\n",
            "556/556 [==============================] - 13s 23ms/step - loss: 0.2677 - accuracy: 0.9150 - val_loss: 0.3277 - val_accuracy: 0.8871\n",
            "Epoch 11/30\n",
            "556/556 [==============================] - ETA: 0s - loss: 0.2624 - accuracy: 0.9166\n",
            "Epoch 00011: loss improved from 0.26772 to 0.26237, saving model to ./output/gender_model.h5\n",
            "556/556 [==============================] - 13s 23ms/step - loss: 0.2624 - accuracy: 0.9166 - val_loss: 0.3066 - val_accuracy: 0.8934\n",
            "Epoch 12/30\n",
            "556/556 [==============================] - ETA: 0s - loss: 0.2556 - accuracy: 0.9199\n",
            "Epoch 00012: loss improved from 0.26237 to 0.25561, saving model to ./output/gender_model.h5\n",
            "556/556 [==============================] - 12s 22ms/step - loss: 0.2556 - accuracy: 0.9199 - val_loss: 0.3401 - val_accuracy: 0.8865\n",
            "Epoch 13/30\n",
            "556/556 [==============================] - ETA: 0s - loss: 0.2463 - accuracy: 0.9229\n",
            "Epoch 00013: loss improved from 0.25561 to 0.24631, saving model to ./output/gender_model.h5\n",
            "556/556 [==============================] - 13s 23ms/step - loss: 0.2463 - accuracy: 0.9229 - val_loss: 0.3170 - val_accuracy: 0.8922\n",
            "Epoch 14/30\n",
            "556/556 [==============================] - ETA: 0s - loss: 0.2416 - accuracy: 0.9255\n",
            "Epoch 00014: loss improved from 0.24631 to 0.24157, saving model to ./output/gender_model.h5\n",
            "556/556 [==============================] - 13s 23ms/step - loss: 0.2416 - accuracy: 0.9255 - val_loss: 0.3109 - val_accuracy: 0.8951\n",
            "Epoch 15/30\n",
            "556/556 [==============================] - ETA: 0s - loss: 0.2418 - accuracy: 0.9239\n",
            "Epoch 00015: loss did not improve from 0.24157\n",
            "556/556 [==============================] - 12s 21ms/step - loss: 0.2418 - accuracy: 0.9239 - val_loss: 0.3075 - val_accuracy: 0.8961\n",
            "Epoch 16/30\n",
            "556/556 [==============================] - ETA: 0s - loss: 0.2373 - accuracy: 0.9288\n",
            "Epoch 00016: loss improved from 0.24157 to 0.23725, saving model to ./output/gender_model.h5\n",
            "556/556 [==============================] - 13s 23ms/step - loss: 0.2373 - accuracy: 0.9288 - val_loss: 0.3285 - val_accuracy: 0.8908\n",
            "Epoch 17/30\n",
            "556/556 [==============================] - ETA: 0s - loss: 0.2346 - accuracy: 0.9290\n",
            "Epoch 00017: loss improved from 0.23725 to 0.23460, saving model to ./output/gender_model.h5\n",
            "556/556 [==============================] - 13s 23ms/step - loss: 0.2346 - accuracy: 0.9290 - val_loss: 0.3220 - val_accuracy: 0.8942\n",
            "Epoch 18/30\n",
            "554/556 [============================>.] - ETA: 0s - loss: 0.2262 - accuracy: 0.9314\n",
            "Epoch 00018: loss improved from 0.23460 to 0.22633, saving model to ./output/gender_model.h5\n",
            "556/556 [==============================] - 13s 24ms/step - loss: 0.2263 - accuracy: 0.9313 - val_loss: 0.3150 - val_accuracy: 0.8978\n",
            "Epoch 19/30\n",
            "556/556 [==============================] - ETA: 0s - loss: 0.2260 - accuracy: 0.9333\n",
            "Epoch 00019: loss improved from 0.22633 to 0.22598, saving model to ./output/gender_model.h5\n",
            "556/556 [==============================] - 12s 22ms/step - loss: 0.2260 - accuracy: 0.9333 - val_loss: 0.3337 - val_accuracy: 0.8940\n",
            "Epoch 20/30\n",
            "556/556 [==============================] - ETA: 0s - loss: 0.2300 - accuracy: 0.9328\n",
            "Epoch 00020: loss did not improve from 0.22598\n",
            "556/556 [==============================] - 12s 22ms/step - loss: 0.2300 - accuracy: 0.9328 - val_loss: 0.3273 - val_accuracy: 0.8935\n",
            "Epoch 21/30\n",
            "556/556 [==============================] - ETA: 0s - loss: 0.2217 - accuracy: 0.9385\n",
            "Epoch 00021: loss improved from 0.22598 to 0.22169, saving model to ./output/gender_model.h5\n",
            "556/556 [==============================] - 13s 23ms/step - loss: 0.2217 - accuracy: 0.9385 - val_loss: 0.3464 - val_accuracy: 0.8892\n",
            "Epoch 22/30\n",
            "556/556 [==============================] - ETA: 0s - loss: 0.2148 - accuracy: 0.9397\n",
            "Epoch 00022: loss improved from 0.22169 to 0.21480, saving model to ./output/gender_model.h5\n",
            "556/556 [==============================] - 12s 22ms/step - loss: 0.2148 - accuracy: 0.9397 - val_loss: 0.3334 - val_accuracy: 0.8937\n",
            "Epoch 23/30\n",
            "556/556 [==============================] - ETA: 0s - loss: 0.2173 - accuracy: 0.9400\n",
            "Epoch 00023: loss did not improve from 0.21480\n",
            "556/556 [==============================] - 12s 22ms/step - loss: 0.2173 - accuracy: 0.9400 - val_loss: 0.3471 - val_accuracy: 0.8878\n",
            "Epoch 24/30\n",
            "556/556 [==============================] - ETA: 0s - loss: 0.2203 - accuracy: 0.9363\n",
            "Epoch 00024: loss did not improve from 0.21480\n",
            "556/556 [==============================] - 12s 22ms/step - loss: 0.2203 - accuracy: 0.9363 - val_loss: 0.3341 - val_accuracy: 0.8919\n",
            "Epoch 25/30\n",
            "556/556 [==============================] - ETA: 0s - loss: 0.2155 - accuracy: 0.9403\n",
            "Epoch 00025: loss did not improve from 0.21480\n",
            "556/556 [==============================] - 12s 22ms/step - loss: 0.2155 - accuracy: 0.9403 - val_loss: 0.3435 - val_accuracy: 0.8878\n",
            "Epoch 26/30\n",
            "556/556 [==============================] - ETA: 0s - loss: 0.2098 - accuracy: 0.9435\n",
            "Epoch 00026: loss improved from 0.21480 to 0.20976, saving model to ./output/gender_model.h5\n",
            "556/556 [==============================] - 13s 23ms/step - loss: 0.2098 - accuracy: 0.9435 - val_loss: 0.3355 - val_accuracy: 0.8979\n",
            "Epoch 27/30\n",
            "556/556 [==============================] - ETA: 0s - loss: 0.2036 - accuracy: 0.9449\n",
            "Epoch 00027: loss improved from 0.20976 to 0.20358, saving model to ./output/gender_model.h5\n",
            "556/556 [==============================] - 13s 24ms/step - loss: 0.2036 - accuracy: 0.9449 - val_loss: 0.3413 - val_accuracy: 0.8905\n",
            "Epoch 28/30\n",
            "556/556 [==============================] - ETA: 0s - loss: 0.2065 - accuracy: 0.9444\n",
            "Epoch 00028: loss did not improve from 0.20358\n",
            "556/556 [==============================] - 12s 21ms/step - loss: 0.2065 - accuracy: 0.9444 - val_loss: 0.3641 - val_accuracy: 0.8917\n",
            "Epoch 29/30\n",
            "556/556 [==============================] - ETA: 0s - loss: 0.2062 - accuracy: 0.9431\n",
            "Epoch 00029: loss did not improve from 0.20358\n",
            "556/556 [==============================] - 12s 22ms/step - loss: 0.2062 - accuracy: 0.9431 - val_loss: 0.3441 - val_accuracy: 0.8907\n",
            "Epoch 30/30\n",
            "556/556 [==============================] - ETA: 0s - loss: 0.2018 - accuracy: 0.9450\n",
            "Epoch 00030: loss improved from 0.20358 to 0.20182, saving model to ./output/gender_model.h5\n",
            "556/556 [==============================] - 13s 23ms/step - loss: 0.2018 - accuracy: 0.9450 - val_loss: 0.3669 - val_accuracy: 0.8935\n"
          ]
        }
      ]
    },
    {
      "cell_type": "code",
      "source": [
        "\n"
      ],
      "metadata": {
        "id": "UCibSCXkJn0X"
      },
      "execution_count": 20,
      "outputs": []
    }
  ]
}